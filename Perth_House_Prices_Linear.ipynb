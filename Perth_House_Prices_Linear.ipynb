{
 "cells": [
  {
   "cell_type": "code",
   "execution_count": null,
   "metadata": {},
   "outputs": [],
   "source": [
    "# Import Dependencies\n",
    "import pandas as pd\n",
    "import numpy as np\n",
    "import matplotlib.pyplot as plt\n",
    "from pathlib import Path\n",
    "from sklearn.model_selection import train_test_split\n",
    "from sklearn.linear_model import LinearRegression\n",
    "from sklearn.metrics import accuracy_score, confusion_matrix, classification_report\n",
    "from sklearn.preprocessing import StandardScaler\n",
    "from sklearn import tree\n",
    "\n"
   ]
  },
  {
   "cell_type": "code",
   "execution_count": null,
   "metadata": {},
   "outputs": [],
   "source": [
    "# Read in CSV file\n",
    "perth_houses_df = pd.read_csv(\"Resources/all_perth_310121.csv\")\n",
    "\n",
    "# Review the DataFrame\n",
    "perth_houses_df.head()"
   ]
  },
  {
   "attachments": {},
   "cell_type": "markdown",
   "metadata": {},
   "source": [
    "### Data PreProcessing and Cleaning"
   ]
  },
  {
   "cell_type": "code",
   "execution_count": null,
   "metadata": {},
   "outputs": [],
   "source": [
    "perth_houses_df.describe().T"
   ]
  },
  {
   "cell_type": "code",
   "execution_count": null,
   "metadata": {},
   "outputs": [],
   "source": [
    "#find the datatypes\n",
    "perth_houses_df.info()"
   ]
  },
  {
   "cell_type": "code",
   "execution_count": null,
   "metadata": {},
   "outputs": [],
   "source": [
    "#find null values of any of the columns\n",
    "perth_houses_df.isnull().sum()"
   ]
  },
  {
   "cell_type": "code",
   "execution_count": null,
   "metadata": {},
   "outputs": [],
   "source": [
    "# change GARAGE 'NULL' to figure of 0 (assume there are no garages for these houses) \n",
    "perth_houses_df['GARAGE'] = perth_houses_df['GARAGE'].fillna(0)\n",
    "\n",
    "# Set BUILD_YEAR to the median \n",
    "perth_houses_df['BUILD_YEAR'] = perth_houses_df['BUILD_YEAR'].fillna(perth_houses_df['BUILD_YEAR'].median())\n",
    "perth_houses_df.tail(5)"
   ]
  },
  {
   "cell_type": "code",
   "execution_count": null,
   "metadata": {},
   "outputs": [],
   "source": [
    "#change garage and build_year columns from float to integer\n",
    "perth_houses_df['GARAGE'] = perth_houses_df['GARAGE'].astype(int)\n",
    "perth_houses_df['BUILD_YEAR'] = perth_houses_df['BUILD_YEAR'].astype(int)\n",
    "perth_houses_df.tail()"
   ]
  },
  {
   "cell_type": "code",
   "execution_count": null,
   "metadata": {},
   "outputs": [],
   "source": [
    "#check breakdown of number of garages per house\n",
    "perth_houses_df[\"GARAGE\"].value_counts()"
   ]
  },
  {
   "cell_type": "code",
   "execution_count": null,
   "metadata": {},
   "outputs": [],
   "source": [
    "# remove all Garage values of <2\n",
    "# value_counts = perth_houses_df['GARAGE'].value_counts()\n",
    "# filter_classification = value_counts[value_counts >1]\n",
    "# print(filter_classification)"
   ]
  },
  {
   "cell_type": "code",
   "execution_count": null,
   "metadata": {},
   "outputs": [],
   "source": [
    "#check breakdown of number of bedrooms per house\n",
    "perth_houses_df[\"BEDROOMS\"].value_counts()\n"
   ]
  },
  {
   "cell_type": "code",
   "execution_count": null,
   "metadata": {},
   "outputs": [],
   "source": [
    "#check breakdown of number of bathrooms per house\n",
    "perth_houses_df[\"BATHROOMS\"].value_counts()\n"
   ]
  },
  {
   "cell_type": "code",
   "execution_count": null,
   "metadata": {},
   "outputs": [],
   "source": [
    "# Set DATE_SOLD to datetime\n",
    "perth_houses_df['DATE_SOLD'] = pd.to_datetime(perth_houses_df['DATE_SOLD'], format='%m-%Y\\r')\n",
    "\n",
    "# Split DATE_SOLD into MONTH and DATE columna\n",
    "perth_houses_df['MONTH_SOLD'] = perth_houses_df['DATE_SOLD'].dt.month\n",
    "perth_houses_df['YEAR_SOLD'] = perth_houses_df['DATE_SOLD'].dt.year\n",
    "perth_houses_df.head()\n"
   ]
  },
  {
   "cell_type": "code",
   "execution_count": null,
   "metadata": {},
   "outputs": [],
   "source": [
    "#drop columns not required for ML \n",
    "perth_houses_cleaned_df = perth_houses_df.drop(['ADDRESS','CBD_DIST','NEAREST_STN_DIST','POSTCODE','DATE_SOLD','LATITUDE','LONGITUDE','NEAREST_SCH_DIST','NEAREST_SCH_RANK'], axis=1)\n",
    "perth_houses_cleaned_df.head()"
   ]
  },
  {
   "cell_type": "code",
   "execution_count": null,
   "metadata": {},
   "outputs": [],
   "source": [
    "perth_houses_cleaned_df.isnull().sum()"
   ]
  },
  {
   "cell_type": "code",
   "execution_count": null,
   "metadata": {},
   "outputs": [],
   "source": [
    "perth_houses_cleaned_df.info()"
   ]
  },
  {
   "cell_type": "code",
   "execution_count": null,
   "metadata": {},
   "outputs": [],
   "source": [
    "for column in ['SUBURB','NEAREST_STN','NEAREST_SCH']:\n",
    "    dummies= pd.get_dummies(perth_houses_cleaned_df[column], prefix= column)\n",
    "    perth_houses_cleaned_df= pd.concat([perth_houses_cleaned_df, dummies], axis=1)\n",
    "    perth_houses_cleaned_df= perth_houses_cleaned_df.drop(column, axis=1)\n",
    "\n",
    "perth_houses_cleaned_df.head()    \n"
   ]
  },
  {
   "attachments": {},
   "cell_type": "markdown",
   "metadata": {},
   "source": [
    "### Split Data into Training and Test Sets"
   ]
  },
  {
   "cell_type": "code",
   "execution_count": null,
   "metadata": {},
   "outputs": [],
   "source": [
    "# Separate the y variable, the labels\n",
    "y = perth_houses_cleaned_df[\"PRICE\"]\n",
    "\n",
    "# Separate the X variable, the features\n",
    "X = perth_houses_cleaned_df.drop(columns=\"PRICE\")"
   ]
  },
  {
   "cell_type": "code",
   "execution_count": null,
   "metadata": {},
   "outputs": [],
   "source": [
    "# Review the y variable Series\n",
    "y[:5]"
   ]
  },
  {
   "cell_type": "code",
   "execution_count": null,
   "metadata": {},
   "outputs": [],
   "source": [
    "# Review the X variable DataFrame\n",
    "X[:5]"
   ]
  },
  {
   "cell_type": "code",
   "execution_count": null,
   "metadata": {},
   "outputs": [],
   "source": [
    "# create a histogram for the y values\n",
    "plt.hist(y, bins=10, edgecolor='black')\n",
    "plt.xlabel('House Prices $m')\n",
    "plt.ylabel('Frequency')\n",
    "plt.title('Histogram of Perth House Prices')\n",
    "plt.show()\n",
    "plt.savefig(\"Images/Perth_House_Prices_Histogram.png\")\n"
   ]
  },
  {
   "attachments": {},
   "cell_type": "markdown",
   "metadata": {},
   "source": [
    "### Split Data into Training and Test Datasets"
   ]
  },
  {
   "cell_type": "code",
   "execution_count": null,
   "metadata": {},
   "outputs": [],
   "source": [
    "# Split the data into training and test data\n",
    "X_train, X_test, y_train, y_test = train_test_split(X, y, random_state=1)\n",
    "X_train.shape   "
   ]
  },
  {
   "attachments": {},
   "cell_type": "markdown",
   "metadata": {},
   "source": [
    "### Create a Linear Regression Model with the Cleaned Data"
   ]
  },
  {
   "cell_type": "code",
   "execution_count": null,
   "metadata": {},
   "outputs": [],
   "source": [
    "# Instantiate the Logistic Regression model\n",
    "linear_regression_model = LinearRegression()\n",
    "\n",
    "# fit the model using the training data\n",
    "linear_regression_model.fit(X_train, y_train)\n",
    "\n",
    "# Use the Test data to make a prediction\n",
    "lr_predict = linear_regression_model.predict(X_test)\n",
    "lr_predict"
   ]
  },
  {
   "cell_type": "code",
   "execution_count": null,
   "metadata": {},
   "outputs": [],
   "source": [
    " # Score the model\n",
    "print(f\"Training Data Score: {linear_regression_model.score(X_train, y_train)}\")\n",
    "print(f\"Testing Data Score: {linear_regression_model.score(X_test, y_test)}\")"
   ]
  },
  {
   "cell_type": "code",
   "execution_count": null,
   "metadata": {},
   "outputs": [],
   "source": [
    "# Create a scatter plot \n",
    "plt.scatter(y_test, lr_predict)\n",
    "plt.savefig(\"Images/ScatterPlot.png\")\n"
   ]
  },
  {
   "attachments": {},
   "cell_type": "markdown",
   "metadata": {},
   "source": [
    "### Model 2: Decision Tree"
   ]
  },
  {
   "cell_type": "code",
   "execution_count": null,
   "metadata": {},
   "outputs": [],
   "source": [
    "# Create Standard Scaler\n",
    "scaler= StandardScaler()\n",
    "\n",
    "# Fit Standard Scaler\n",
    "X_scaler= scaler.fit(X_train)\n",
    "\n",
    "# Scale Data\n",
    "X_train_scaled= X_scaler.transform(X_train)\n",
    "X_test_scaled= X_scaler.transform(X_test)"
   ]
  },
  {
   "cell_type": "code",
   "execution_count": null,
   "metadata": {},
   "outputs": [],
   "source": [
    "# Fit the Decision Tree\n",
    "\n",
    "# Create the Decision Tree classifier\n",
    "model= tree.DecisionTreeClassifier()\n",
    "\n",
    "# Fit the model\n",
    "model= model.fit(X_train_scaled, y_train)"
   ]
  },
  {
   "cell_type": "code",
   "execution_count": null,
   "metadata": {},
   "outputs": [],
   "source": [
    "# Make Predictions using the Tree Model\n",
    "tree_predict= model.predict(X_test_scaled)"
   ]
  },
  {
   "cell_type": "code",
   "execution_count": null,
   "metadata": {},
   "outputs": [],
   "source": [
    "# Calculate the confusion matrix\n",
    "con_max= confusion_matrix(y_test, tree_predict)\n",
    "con_max_df= pd.DataFrame(con_max, index=[\"Actual 0\", \"Actual 1\"], columns=[\"Predicted 0\", \"Predicted 1\"])\n",
    "\n",
    "#Calculate the Accuracy Score\n",
    "acc_score= accuracy_score(y_test, tree_predict)\n"
   ]
  },
  {
   "cell_type": "code",
   "execution_count": null,
   "metadata": {},
   "outputs": [],
   "source": [
    "# Display Results\n",
    "print(\"Confusion Matrix\")\n",
    "display(con_max_df)\n",
    "print(f\"Accuracy Score: {acc_score}\")\n",
    "print(\"Classification Report\")\n",
    "print(classification_report(y_test, tree_predict))"
   ]
  }
 ],
 "metadata": {
  "kernelspec": {
   "display_name": "PythonData",
   "language": "python",
   "name": "python3"
  },
  "language_info": {
   "codemirror_mode": {
    "name": "ipython",
    "version": 3
   },
   "file_extension": ".py",
   "mimetype": "text/x-python",
   "name": "python",
   "nbconvert_exporter": "python",
   "pygments_lexer": "ipython3",
   "version": "3.7.7"
  },
  "orig_nbformat": 4
 },
 "nbformat": 4,
 "nbformat_minor": 2
}
